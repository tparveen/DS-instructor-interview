{
 "cells": [
  {
   "cell_type": "markdown",
   "metadata": {},
   "source": [
    "# Predict the Oscars "
   ]
  },
  {
   "cell_type": "markdown",
   "metadata": {},
   "source": [
    "This example will show how to use supervised learning to predict the oscars. We'll use a dataset that contains previous Oscar winners to build a prediction model to guess the next winner for Best Picture Award. Our model will predict only one winner!"
   ]
  },
  {
   "cell_type": "code",
   "execution_count": 1,
   "metadata": {
    "collapsed": false
   },
   "outputs": [],
   "source": [
    "import numpy as np\n",
    "import pandas as pd\n",
    "from sklearn import tree\n",
    "from sklearn.ensemble import RandomForestClassifier\n",
    "\n",
    "pd.set_option('mode.chained_assignment', None)"
   ]
  },
  {
   "cell_type": "code",
   "execution_count": 4,
   "metadata": {
    "collapsed": false
   },
   "outputs": [],
   "source": [
    "train_file = \"train.csv\"\n",
    "initial_train = pd.read_csv(train_file)\n",
    "\n",
    "train = initial_train[(initial_train['Year'] > 1980)]\n",
    "\n",
    "test_file = \"test.csv\"\n",
    "test = pd.read_csv(test_file)"
   ]
  },
  {
   "cell_type": "code",
   "execution_count": 6,
   "metadata": {
    "collapsed": false,
    "scrolled": true
   },
   "outputs": [],
   "source": [
    "train.head(5)"
   ]
  },
  {
   "cell_type": "code",
   "execution_count": 7,
   "metadata": {
    "collapsed": false
   },
   "outputs": [],
   "source": [
    "train.ix[train[\"Rate\"] == \"G\", \"Rate\"] = 1\n",
    "train.ix[train[\"Rate\"] == \"PG\", \"Rate\"] = 2\n",
    "train.ix[train[\"Rate\"] == \"PG-13\", \"Rate\"] = 3\n",
    "train.ix[train[\"Rate\"] == \"R\", \"Rate\"] = 4\n",
    "\n",
    "test.ix[test[\"Rate\"] == \"G\", \"Rate\"] = 1\n",
    "test.ix[test[\"Rate\"] == \"PG\", \"Rate\"] = 2\n",
    "test.ix[test[\"Rate\"] == \"PG-13\", \"Rate\"] = 3\n",
    "test.ix[test[\"Rate\"] == \"R\", \"Rate\"] = 4"
   ]
  },
  {
   "cell_type": "code",
   "execution_count": 8,
   "metadata": {
    "collapsed": false
   },
   "outputs": [],
   "source": [
    "#train.head(5)"
   ]
  },
  {
   "cell_type": "code",
   "execution_count": 9,
   "metadata": {
    "collapsed": false
   },
   "outputs": [],
   "source": [
    "train[\"IMDB Rating\"].fillna(train[\"IMDB Rating\"].median(), inplace=True)\n",
    "test[\"IMDB Rating\"].fillna(test[\"IMDB Rating\"].median(), inplace=True)\n",
    "\n",
    "train[\"Metascore\"].fillna(train[\"Metascore\"].median(), inplace=True)\n",
    "test[\"Metascore\"].fillna(train[\"Metascore\"].median(), inplace=True)"
   ]
  },
  {
   "cell_type": "markdown",
   "metadata": {},
   "source": [
    "## Let's create our model...\n",
    "#### How would you choose the right variables to model?\n"
   ]
  },
  {
   "cell_type": "code",
   "execution_count": 10,
   "metadata": {
    "collapsed": false
   },
   "outputs": [],
   "source": [
    "target = train[\"Won?\"].values\n",
    "\n",
    "feature_names = [\n",
    "    \"Oscar Nominations\",\n",
    "    \"Won Golden Globe\",\n",
    "    \"Golden Globe Nominations\",\n",
    "    \"Won Bafta\",\n",
    "    \"Bafta Nominations\",\n",
    "    \"Won Producers\",\n",
    "    \"Won Actors\",\n",
    "    \"Won Directors\",\n",
    "    \"Metascore\",\n",
    "    \"IMDB Rating\"]\n",
    "\n",
    "features = train[feature_names].values\n",
    "\n",
    "my_tree = tree.DecisionTreeClassifier()\n",
    "my_tree = my_tree.fit(features, target)"
   ]
  },
  {
   "cell_type": "code",
   "execution_count": 16,
   "metadata": {
    "collapsed": false
   },
   "outputs": [],
   "source": [
    "# What is a Decision Tree?\n",
    "# How do you interpret the results?\n",
    "# What is a technique used to combat variability of results from Decision Trees?\n",
    "\n",
    "tree_importances = pd.DataFrame(my_tree.feature_importances_, feature_names, columns=[\"Importances\"])\n",
    "\n",
    "#print(tree_importances)\n",
    "#print('Score', my_tree.score(features, target))"
   ]
  },
  {
   "cell_type": "markdown",
   "metadata": {},
   "source": [
    "## Now that we have a model, lets use our model to predict"
   ]
  },
  {
   "cell_type": "code",
   "execution_count": 12,
   "metadata": {
    "collapsed": false
   },
   "outputs": [],
   "source": [
    "test_features = test[feature_names].values\n",
    "\n",
    "pred_tree = my_tree.predict_proba(test_features)[:, 1]\n",
    "\n",
    "movie_name = np.array(test[\"Movie\"])\n",
    "year = np.array(test[\"Year\"])\n",
    "won = np.array(test[\"Won?\"])\n",
    "\n",
    "tree_prediction = pd.DataFrame(pred_tree.round(2), movie_name, columns=[\"Probability\"])\n",
    "tree_prediction[\"Year\"] = year\n",
    "tree_prediction[\"Actually Won?\"] = won"
   ]
  },
  {
   "cell_type": "code",
   "execution_count": 14,
   "metadata": {
    "collapsed": false
   },
   "outputs": [],
   "source": [
    "tree_prediction[tree_prediction['Year'] != 2016]"
   ]
  },
  {
   "cell_type": "markdown",
   "metadata": {},
   "source": [
    "### Are these reliable results?\n",
    "\n",
    "### Are there any issues with these results?\n",
    "\n",
    "### What can we do about it?"
   ]
  }
 ],
 "metadata": {
  "kernelspec": {
   "display_name": "Python 3",
   "language": "python",
   "name": "python3"
  },
  "language_info": {
   "codemirror_mode": {
    "name": "ipython",
    "version": 3
   },
   "file_extension": ".py",
   "mimetype": "text/x-python",
   "name": "python",
   "nbconvert_exporter": "python",
   "pygments_lexer": "ipython3",
   "version": "3.6.0"
  }
 },
 "nbformat": 4,
 "nbformat_minor": 2
}
